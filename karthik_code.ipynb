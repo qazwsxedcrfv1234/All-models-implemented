{
 "cells": [
  {
   "cell_type": "code",
   "execution_count": 1,
   "metadata": {},
   "outputs": [],
   "source": [
    "import pandas as pd"
   ]
  },
  {
   "cell_type": "code",
   "execution_count": 20,
   "metadata": {},
   "outputs": [],
   "source": [
    "def split(split_variable,split_period,data):\n",
    "    data1 = data[['date',split_variable]]\n",
    "    #data1.rename(columns={split_variable:'a_'+split_variable},inplace=True)\n",
    "    p1 = data1.loc[data1['date']<=split_period]\n",
    "    #p1.rename(columns={split_variable:split_variable+'.p1'},inplace=True)\n",
    "    p2 = data1[~data1.isin(p1)].dropna()\n",
    "    #p2.rename(columns={split_variable:split_variable+'.p2'},inplace=True)\n",
    "    p1_var = 'a_'+split_variable+'.p1'\n",
    "    p2_var = 'a_'+split_variable+'.p2'\n",
    "    p1.rename(columns={split_variable:p1_var},inplace=True)\n",
    "    p2.rename(columns={split_variable:p2_var},inplace=True)\n",
    "    merge = p1.append(p2,ignore_index=True)\n",
    "    merge.fillna(0,inplace=True)\n",
    "    return merge\n",
    "    "
   ]
  },
  {
   "cell_type": "code",
   "execution_count": 21,
   "metadata": {},
   "outputs": [
    {
     "name": "stdout",
     "output_type": "stream",
     "text": [
      "Enter number of variables to split: f2f, 2019-01-04\n"
     ]
    },
    {
     "ename": "ValueError",
     "evalue": "invalid literal for int() with base 10: 'f2f, 2019-01-04'",
     "output_type": "error",
     "traceback": [
      "\u001b[1;31m---------------------------------------------------------------------------\u001b[0m",
      "\u001b[1;31mValueError\u001b[0m                                Traceback (most recent call last)",
      "\u001b[1;32m<ipython-input-21-678ebe9b8e10>\u001b[0m in \u001b[0;36m<module>\u001b[1;34m\u001b[0m\n\u001b[1;32m----> 1\u001b[1;33m \u001b[0mn\u001b[0m \u001b[1;33m=\u001b[0m \u001b[0mint\u001b[0m\u001b[1;33m(\u001b[0m\u001b[0minput\u001b[0m\u001b[1;33m(\u001b[0m\u001b[1;34m\"Enter number of variables to split: \"\u001b[0m\u001b[1;33m)\u001b[0m\u001b[1;33m)\u001b[0m\u001b[1;33m\u001b[0m\u001b[1;33m\u001b[0m\u001b[0m\n\u001b[0m\u001b[0;32m      2\u001b[0m \u001b[0mdata\u001b[0m \u001b[1;33m=\u001b[0m \u001b[0mpd\u001b[0m\u001b[1;33m.\u001b[0m\u001b[0mread_excel\u001b[0m\u001b[1;33m(\u001b[0m\u001b[1;34mr\"C:\\Users\\dell\\Desktop\\Python_Test.xlsx\"\u001b[0m\u001b[1;33m,\u001b[0m \u001b[0msheet_name\u001b[0m \u001b[1;33m=\u001b[0m\u001b[1;34m\"Q1 From\"\u001b[0m\u001b[1;33m)\u001b[0m\u001b[1;33m\u001b[0m\u001b[1;33m\u001b[0m\u001b[0m\n\u001b[0;32m      3\u001b[0m \u001b[0moutput\u001b[0m \u001b[1;33m=\u001b[0m \u001b[0mpd\u001b[0m\u001b[1;33m.\u001b[0m\u001b[0mDataFrame\u001b[0m\u001b[1;33m(\u001b[0m\u001b[1;33m)\u001b[0m\u001b[1;33m\u001b[0m\u001b[1;33m\u001b[0m\u001b[0m\n\u001b[0;32m      4\u001b[0m \u001b[1;32mfor\u001b[0m \u001b[0mi\u001b[0m \u001b[1;32min\u001b[0m \u001b[0mrange\u001b[0m\u001b[1;33m(\u001b[0m\u001b[0mn\u001b[0m\u001b[1;33m)\u001b[0m\u001b[1;33m:\u001b[0m\u001b[1;33m\u001b[0m\u001b[1;33m\u001b[0m\u001b[0m\n\u001b[0;32m      5\u001b[0m     \u001b[0mresult\u001b[0m\u001b[1;33m=\u001b[0m\u001b[0mpd\u001b[0m\u001b[1;33m.\u001b[0m\u001b[0mDataFrame\u001b[0m\u001b[1;33m(\u001b[0m\u001b[1;33m)\u001b[0m\u001b[1;33m\u001b[0m\u001b[1;33m\u001b[0m\u001b[0m\n",
      "\u001b[1;31mValueError\u001b[0m: invalid literal for int() with base 10: 'f2f, 2019-01-04'"
     ]
    }
   ],
   "source": [
    "n = int(input(\"Enter number of variables to split: \"))\n",
    "data = pd.read_excel(r\"C:\\Users\\dell\\Desktop\\Python_Test.xlsx\", sheet_name =\"Q1 From\")\n",
    "output = pd.DataFrame()\n",
    "for i in range(n):\n",
    "    result=pd.DataFrame()\n",
    "    split_variable,split_period = input(\"Enter split_variable,split_period: \").split(',')\n",
    "    p1p2_merge=split(split_variable,split_period,data)\n",
    "    result = pd.concat([data,p1p2_merge],axis=1)\n",
    "    output = pd.concat([result,output],axis=1)\n",
    "output = output.loc[:,~output.columns.duplicated()]   \n",
    "display(output)\n",
    "    \n",
    "\n"
   ]
  },
  {
   "cell_type": "code",
   "execution_count": null,
   "metadata": {},
   "outputs": [],
   "source": []
  }
 ],
 "metadata": {
  "kernelspec": {
   "display_name": "Python 3",
   "language": "python",
   "name": "python3"
  },
  "language_info": {
   "codemirror_mode": {
    "name": "ipython",
    "version": 3
   },
   "file_extension": ".py",
   "mimetype": "text/x-python",
   "name": "python",
   "nbconvert_exporter": "python",
   "pygments_lexer": "ipython3",
   "version": "3.7.6"
  }
 },
 "nbformat": 4,
 "nbformat_minor": 2
}
